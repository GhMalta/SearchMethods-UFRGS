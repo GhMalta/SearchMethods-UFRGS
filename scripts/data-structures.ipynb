{
 "cells": [
  {
   "cell_type": "markdown",
   "metadata": {},
   "source": [
    "Notebook intended to practicing python fundamentals.\n",
    "------------------------------------------------------------------------------\n",
    "\n",
    "\n",
    "\n",
    "\n",
    "**Lists:**\n",
    "List is a collection which is ordered and changeable. Allows duplicate members. \n",
    "\n",
    "L = [1, 2, 3]\n",
    "\n",
    "Constructor: **list()**\n",
    "\n",
    "Methods:\n",
    "\n",
    "**append()**\tAdds an element at the end of the list\n",
    "\n",
    "**clear()**\tRemoves all the elements from the list\n",
    "\n",
    "**copy()**\tReturns a copy of the list\n",
    "\n",
    "**count()**\tReturns the number of elements with the specified value\n",
    "\n",
    "**extend()**\tAdd the elements of a list (or any iterable), to the end of the current list\n",
    "\n",
    "**index()**\tReturns the index of the first element with the specified value\n",
    "\n",
    "**insert()**\tAdds an element at the specified position\n",
    "\n",
    "**pop()**\tRemoves the element at the specified position\n",
    "\n",
    "**remove()**\tRemoves the item with the specified value\n",
    "\n",
    "**reverse()**\tReverses the order of the list\n",
    "\n",
    "**sort()**\tSorts the list"
   ]
  },
  {
   "cell_type": "code",
   "execution_count": 3,
   "metadata": {},
   "outputs": [
    {
     "name": "stdout",
     "output_type": "stream",
     "text": [
      "['A', 'T', 'C', 'G']\n"
     ]
    }
   ],
   "source": [
    "#list with 4 elements\n",
    "\n",
    "nucleotides = [\"A\",\"T\",\"C\",\"G\"]\n",
    " \n",
    "print(nucleotides)"
   ]
  },
  {
   "cell_type": "markdown",
   "metadata": {},
   "source": [
    "**Tuples:** a collection which is ordered and unchangeable. Allows duplicate members.\n",
    "\n",
    "T = (1, 2, 3)\n",
    "\n",
    "Constructor: **tuple()**\n",
    "\n",
    "Methods:\n",
    "\n",
    "**count():**\tReturns the number of times a specified value occurs in a tuple\n",
    "    \n",
    "**index():**\tSearches the tuple for a specified value and returns the position of where it was found"
   ]
  },
  {
   "cell_type": "code",
   "execution_count": 38,
   "metadata": {},
   "outputs": [
    {
     "name": "stdout",
     "output_type": "stream",
     "text": [
      "Elements:  (1, 2, 2, 5, 7, 10, 13, 2)\n",
      "3 numbers 2 found.\n",
      "Number 7 found on index  4\n"
     ]
    }
   ],
   "source": [
    "#A tuple with 3 elements.\n",
    "aTuple = (1, 2, 2, 5, 7, 10, 13, 2)\n",
    "\n",
    "print(\"Elements: \", aTuple)\n",
    "\n",
    "#A tuple is unchangeable.\n",
    "#Tuple[0] = 10 --> will return an error.\n",
    "\n",
    "#A tuple can be deleted\n",
    "# del aTuple\n",
    "# print(aTuple) --> will return an error saying \"aTuple\" is not defined.\n",
    "\n",
    "print(aTuple.count(2), \"numbers 2 found.\")\n",
    "\n",
    "print(\"Number 7 found on index \", aTuple.index(7))\n",
    "\n"
   ]
  },
  {
   "cell_type": "markdown",
   "metadata": {},
   "source": [
    "A **Set** is a collection which is unordered and unindexed. In Python sets are written with curly brackets.\n",
    "\n",
    "S = {1, 2, 3}\n",
    "\n",
    "Constructor: **set()**\n",
    "\n",
    "Methods:\n",
    "\n",
    "**add()**\tAdds an element to the set\n",
    "\n",
    "**clear()**\tRemoves all the elements from the set\n",
    "\n",
    "**copy()**\tReturns a copy of the set\n",
    "\n",
    "**difference()**\tReturns a set containing the difference between two or more sets\n",
    "\n",
    "**difference_update()**\tRemoves the items in this set that are also included in another, specified set\n",
    "\n",
    "**discard()**\tRemove the specified item\n",
    "\n",
    "**intersection()**\tReturns a set, that is the intersection of two other sets\n",
    "\n",
    "**intersection_update()**\tRemoves the items in this set that are not present in other, specified set(s)\n",
    "\n",
    "**isdisjoint()**\tReturns whether two sets have a intersection or not\n",
    "\n",
    "**issubset()**\tReturns whether another set contains this set or not\n",
    "\n",
    "**issuperset()**\tReturns whether this set contains another set or not\n",
    "\n",
    "**pop()**\tRemoves an element from the set\n",
    "\n",
    "**remove()**\tRemoves the specified element\n",
    "\n",
    "**symmetric_difference()**\tReturns a set with the symmetric differences of two sets\n",
    "\n",
    "**symmetric_difference_update()**\tinserts the symmetric differences from this set and another\n",
    "\n",
    "**union()**\tReturn a set containing the union of sets\n",
    "\n",
    "**update()**\tUpdate the set with the union of this set and others"
   ]
  },
  {
   "cell_type": "code",
   "execution_count": 42,
   "metadata": {},
   "outputs": [
    {
     "name": "stdout",
     "output_type": "stream",
     "text": [
      "Basket 1:  {'Banana', 'Peach', 'Grapes', 'Apple', 'Pineapple'}\n",
      "Basket 2:  {'Peach', 'Tomato', 'Papaya', 'Pineapple'}\n",
      "Intersection:  {'Pineapple', 'Peach'}\n",
      "Union:  {'Banana', 'Peach', 'Tomato', 'Grapes', 'Pineapple', 'Papaya', 'Apple'}\n"
     ]
    }
   ],
   "source": [
    "#Creates two sets of fruits in baskets:\n",
    "s1 = {\"Apple\", \"Banana\", \"Pineapple\", \"Peach\", \"Grapes\"}\n",
    "s2 = {\"Pineapple\", \"Tomato\", \"Papaya\", \"Peach\"}\n",
    "\n",
    "print(\"Basket 1: \", s1)\n",
    "print(\"Basket 2: \", s2)\n",
    "\n",
    "print(\"Intersection: \", s1.intersection(s2))\n",
    "print(\"Union: \", s1.union(s2))"
   ]
  },
  {
   "cell_type": "markdown",
   "metadata": {},
   "source": [
    "A **Dictionary** is a collection which is unordered, changeable and indexed. In Python dictionaries are written with curly brackets, and they have keys and values.\n",
    "\n",
    "D =\t{\"brand\": \"Ford\", \"model\": \"Mustang\", \"year\": 1964}\n",
    "\n",
    "Constructor: **dict()**\n",
    "\n",
    "Methods:\n",
    "\n",
    "**clear()**\tRemoves all the elements from the dictionary\n",
    "\n",
    "**copy()**\tReturns a copy of the dictionary\n",
    "\n",
    "**fromkeys()**\tReturns a dictionary with the specified keys and values\n",
    "\n",
    "**get()**\tReturns the value of the specified key\n",
    "\n",
    "**items()**\tReturns a list containing the a tuple for each key value pair\n",
    "\n",
    "**keys()**\tReturns a list containing the dictionary's keys\n",
    "\n",
    "**pop()**\tRemoves the element with the specified key\n",
    "\n",
    "**popitem()**\tRemoves the last inserted key-value pair\n",
    "\n",
    "**setdefault()**\tReturns the value of the specified key. If the key does not exist: insert the key, with the specified value\n",
    "\n",
    "**update()**\tUpdates the dictionary with the specified key-value pairs\n",
    "\n",
    "**values()**\tReturns a list of all the values in the dictionary"
   ]
  },
  {
   "cell_type": "code",
   "execution_count": 70,
   "metadata": {},
   "outputs": [
    {
     "name": "stdout",
     "output_type": "stream",
     "text": [
      "dict_values(['Ford', 'Mustang', 1964, 'Black'])\n",
      "Popping: \n",
      "dict_values(['Ford', 'Mustang', 1964])\n",
      "dict_values(['Ford', 'Mustang'])\n",
      "dict_values(['Ford'])\n",
      "dict_values([])\n"
     ]
    }
   ],
   "source": [
    "#Creates a dictionary for a car model.\n",
    "D = {\"brand\": \"Ford\", \"model\": \"Mustang\", \"year\": 1964}\n",
    "\n",
    "D.update({\"color\": \"Black\"})\n",
    "print(D.values())\n",
    "\n",
    "print(\"Popping: \")\n",
    "for i in range(0, len(D.values())):\n",
    "    D.popitem()\n",
    "    print(D.values())"
   ]
  },
  {
   "cell_type": "markdown",
   "metadata": {},
   "source": [
    "**Functions:**\n",
    "\n",
    "_def myFunction():_\n"
   ]
  },
  {
   "cell_type": "code",
   "execution_count": 93,
   "metadata": {},
   "outputs": [],
   "source": [
    "import math\n",
    "\n",
    "def mySum(x, y = 0):\n",
    "    return x+y\n",
    "\n",
    "def binarySearch (l, left, right, x, counter = 1):\n",
    "    if right >= left:\n",
    "        mid = math.floor(left + (right - left) / 2)\n",
    "        \n",
    "        if l[mid] == x:\n",
    "            return [mid, counter]\n",
    "        \n",
    "        if l[mid] > x:\n",
    "            return binarySearch(l, left, mid - 1, x, counter+1)\n",
    "\n",
    "        return binarySearch(l, mid + 1, right, x, counter+1)\n",
    "        \n",
    "    return([-1, counter])\n",
    "        "
   ]
  },
  {
   "cell_type": "code",
   "execution_count": 102,
   "metadata": {},
   "outputs": [
    {
     "name": "stdout",
     "output_type": "stream",
     "text": [
      "Type the number you are looking for: 83917\n",
      "Numero nao encontrado.\n",
      "Nivel de recursao atingido:  19\n"
     ]
    }
   ],
   "source": [
    "l = [i for i in range(0, 1000000, 3)]\n",
    "#print(\"List: \", l, \"\\n\")\n",
    "number = input(\"Type the number you are looking for: \")\n",
    "ans = binarySearch(l, 0, len(l)-1, int(number))\n",
    "if(ans[0] >= 0):\n",
    "    print(\"Numero \", number, \" encontrado na posicao \", ans[0])\n",
    "else: print(\"Numero nao encontrado.\")\n",
    "print(\"Nivel de recursao atingido: \", ans[1])"
   ]
  },
  {
   "cell_type": "markdown",
   "metadata": {},
   "source": [
    "**Implementação de Fila:**"
   ]
  },
  {
   "cell_type": "code",
   "execution_count": 10,
   "metadata": {},
   "outputs": [
    {
     "ename": "SyntaxError",
     "evalue": "invalid syntax (<ipython-input-10-50ee05589090>, line 46)",
     "output_type": "error",
     "traceback": [
      "\u001b[1;36m  File \u001b[1;32m\"<ipython-input-10-50ee05589090>\"\u001b[1;36m, line \u001b[1;32m46\u001b[0m\n\u001b[1;33m    fila.enqueue(2:4)\u001b[0m\n\u001b[1;37m                  ^\u001b[0m\n\u001b[1;31mSyntaxError\u001b[0m\u001b[1;31m:\u001b[0m invalid syntax\n"
     ]
    }
   ],
   "source": [
    "class fila_circular():\n",
    "    def __init__(self):\n",
    "        self._dados = [None]*10\n",
    "        self._indiceVaiSair = 0\n",
    "        self._indiceEntrou = len(self._dados)-1\n",
    "        self._tamanho = 0\n",
    "    def __len__(self):\n",
    "        return self._tamanho\n",
    "    def _incrementa(self, indice):\n",
    "        indice += 1\n",
    "        if indice == len(self._dados):\n",
    "            indice = 0\n",
    "        return indice\n",
    "    def _duplique_seq(self):\n",
    "        novo = [None]*2*len(self._dados)\n",
    "        for i in range(self._tamanho):\n",
    "            novo[i] = self._dados[self._indiceVaiSair]\n",
    "            self._indiceVaiSair = self._incrementa(self._indiceVaiSair)\n",
    "            \n",
    "        self._dados = novo\n",
    "        self._indiceVaiSair = 0\n",
    "        self._indiceEntrou = self._tamanho - 1\n",
    "    \n",
    "    def enqueue(self, x):\n",
    "        if self._tamanho == len(self._dados):\n",
    "            self._duplique_seq()\n",
    "        self._indiceEntrou = self._incrementa(self._indiceEntrou)\n",
    "        self._dados[self._indiceEntrou] = x\n",
    "        self._tamanho += 1\n",
    "        \n",
    "    def dequeue(self):\n",
    "        if self._tamanho == 0:\n",
    "            raise IndexError(\"Fila vazia\")\n",
    "        \n",
    "        self._tamanho -= 1\n",
    "        x = self._dados[self._indiceVaiSair]\n",
    "        self._dados[self._indiceVaiSair] = None\n",
    "        self._indiceVaiSair = self._incrementa(self._indiceVaiSair)\n",
    "        return x\n",
    "    \n",
    "    def content(self):\n",
    "        print(self._dados)\n",
    "\n",
    "\n",
    "fila = fila_circular()\n",
    "for i in range\n",
    "fila.content()\n",
    "        "
   ]
  }
 ],
 "metadata": {
  "kernelspec": {
   "display_name": "Python 3",
   "language": "python",
   "name": "python3"
  },
  "language_info": {
   "codemirror_mode": {
    "name": "ipython",
    "version": 3
   },
   "file_extension": ".py",
   "mimetype": "text/x-python",
   "name": "python",
   "nbconvert_exporter": "python",
   "pygments_lexer": "ipython3",
   "version": "3.7.1"
  }
 },
 "nbformat": 4,
 "nbformat_minor": 2
}
