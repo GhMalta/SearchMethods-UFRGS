{
 "cells": [
  {
   "cell_type": "markdown",
   "metadata": {},
   "source": [
    "**Metodos de Busca Cega**\n",
    "\n",
    "1) Busca em Largura\n",
    "\n"
   ]
  },
  {
   "cell_type": "code",
   "execution_count": 21,
   "metadata": {},
   "outputs": [
    {
     "name": "stdout",
     "output_type": "stream",
     "text": [
      "True\n"
     ]
    }
   ],
   "source": [
    "import numpy\n",
    "\n",
    "class fila_circular():\n",
    "    def __init__(self):\n",
    "        self._dados = [None]*10\n",
    "        self._indiceVaiSair = 0\n",
    "        self._indiceEntrou = len(self._dados)-1\n",
    "        self._tamanho = 0\n",
    "    def __len__(self):\n",
    "        return self._tamanho\n",
    "    def _incrementa(self, indice):\n",
    "        indice += 1\n",
    "        if indice == len(self._dados):\n",
    "            indice = 0\n",
    "        return indice\n",
    "    def _duplique_seq(self):\n",
    "        novo = [None]*2*len(self._dados)\n",
    "        for i in range(self._tamanho):\n",
    "            novo[i] = self._dados[self._indiceVaiSair]\n",
    "            self._indiceVaiSair = self._incrementa(self._indiceVaiSair)\n",
    "            \n",
    "        self._dados = novo\n",
    "        self._indiceVaiSair = 0\n",
    "        self._indiceEntrou = self._tamanho - 1\n",
    "    def enqueue(self, x):\n",
    "        if self._tamanho == len(self._dados):\n",
    "            self._duplique_seq()\n",
    "        self._indiceEntrou = self._incrementa(self._indiceEntrou)\n",
    "        self._dados[self._indiceEntrou] = x\n",
    "        self._tamanho += 1\n",
    "    def dequeue(self):\n",
    "        if self._tamanho == 0:\n",
    "            raise IndexError(\"Fila vazia\")\n",
    "        self._tamanho -= 1\n",
    "        x = self._dados[self._indiceVaiSair]\n",
    "        self._dados[self._indiceVaiSair] = None\n",
    "        self._indiceVaiSair = self._incrementa(self._indiceVaiSair)\n",
    "        return x\n",
    "    def isEmpty(self):\n",
    "        return self._tamanho == 0\n",
    "    def content(self):\n",
    "        print(self._dados)\n",
    "\n",
    "        \n",
    "\n",
    "\n",
    "def bfs(graph, start, goal):\n",
    "    open_nodes = fila_circular()\n",
    "    open_nodes.enqueue(start)\n",
    "    closed_nodes = []\n",
    "    while not open_nodes.isEmpty():\n",
    "        node = open_nodes.dequeue()\n",
    "        if node == goal:\n",
    "            return True\n",
    "        for nextNode in graph[node]:\n",
    "            if nextNode not in closed_nodes:\n",
    "                open_nodes.enqueue(nextNode)\n",
    "        closed_nodes.append(node)\n",
    "    return False\n",
    "\n",
    "graph = {}\n",
    "g = open('graph1', 'r')\n",
    "for line in g:\n",
    "    x, *y = line.split()\n",
    "    graph[x] = y\n",
    "print(bfs(graph, 'G', 'A'))\n",
    "\n",
    "    \n",
    "    \n",
    "    \n",
    "    \n",
    "    "
   ]
  }
 ],
 "metadata": {
  "celltoolbar": "Edit Metadata",
  "kernelspec": {
   "display_name": "Python 3",
   "language": "python",
   "name": "python3"
  },
  "language_info": {
   "codemirror_mode": {
    "name": "ipython",
    "version": 3
   },
   "file_extension": ".py",
   "mimetype": "text/x-python",
   "name": "python",
   "nbconvert_exporter": "python",
   "pygments_lexer": "ipython3",
   "version": "3.7.1"
  }
 },
 "nbformat": 4,
 "nbformat_minor": 2
}
